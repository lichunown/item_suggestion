{
 "cells": [
  {
   "cell_type": "markdown",
   "metadata": {},
   "source": [
    "使用indritop50进行训练，标签使用人工标注的标签， 如果没有标注则认为是负样本"
   ]
  },
  {
   "cell_type": "code",
   "execution_count": 1,
   "metadata": {},
   "outputs": [],
   "source": [
    "#加载indri数据集\n",
    "indri_dic={}\n",
    "with open('2009-2012.diversity.indri','r') as f:\n",
    "    for line in f:\n",
    "        parts=line.split(' ')\n",
    "        if(len(parts)==6):\n",
    "            qid,_,docid,_,_,_=parts\n",
    "            if qid not in indri_dic:\n",
    "                indri_dic[qid]=[]\n",
    "            if len(indri_dic[qid])>=100:#50:\n",
    "                continue\n",
    "            indri_dic[qid].append(docid)\n",
    " "
   ]
  },
  {
   "cell_type": "code",
   "execution_count": 2,
   "metadata": {},
   "outputs": [
    {
     "name": "stdout",
     "output_type": "stream",
     "text": [
      "<class 'dict'>\n"
     ]
    }
   ],
   "source": [
    "import pickle\n",
    "with open('full_content.pkl','rb') as f:\n",
    "    docs=pickle.load(f)\n",
    "print(type(docs))"
   ]
  },
  {
   "cell_type": "code",
   "execution_count": 3,
   "metadata": {},
   "outputs": [],
   "source": [
    "import json\n",
    "with open('subtopics_suggestions.json','r') as f:\n",
    "    query_and_subtopic=json.load(f)"
   ]
  },
  {
   "cell_type": "code",
   "execution_count": 4,
   "metadata": {},
   "outputs": [],
   "source": [
    "#加载人工标注的数据\n",
    "data_dict = {}\n",
    "seq_dict={}\n",
    "with open('2009-2012.diversity.ndeval.qrels', 'r') as file:\n",
    "    for line in file:\n",
    "        parts = line.strip().split()\n",
    "        # 确保每行有足够的列\n",
    "        if len(parts) >= 4:\n",
    "            query_id, _, doc_id, label = parts\n",
    "            if query_id not in data_dict:\n",
    "                data_dict[query_id]={}\n",
    "            if query_id not in seq_dict:\n",
    "                seq_dict[query_id]=[]\n",
    "            seq_dict[query_id].append([doc_id,label])\n",
    "            if doc_id not in data_dict[query_id]:\n",
    "                data_dict[query_id][doc_id]=0\n",
    "            if label!='0':\n",
    "                data_dict[query_id][doc_id]+=1"
   ]
  },
  {
   "cell_type": "code",
   "execution_count": 5,
   "metadata": {
    "collapsed": false,
    "jupyter": {
     "outputs_hidden": false
    }
   },
   "outputs": [],
   "source": [
    "data_dict={}\n",
    "for qid in seq_dict:\n",
    "    if qid not in data_dict:\n",
    "        data_dict[qid]={}\n",
    "    for item in seq_dict[qid]:\n",
    "        docid,label=item\n",
    "        label=int(label)\n",
    "        if docid not in data_dict[qid]:\n",
    "            data_dict[qid][docid]=0\n",
    "        data_dict[qid][docid]+=label"
   ]
  },
  {
   "cell_type": "code",
   "execution_count": 6,
   "metadata": {
    "collapsed": false,
    "jupyter": {
     "outputs_hidden": false
    }
   },
   "outputs": [],
   "source": [
    "for qid,doc_list in indri_dic.items():\n",
    "    #标注里面没有这个queryid\n",
    "    if qid not in data_dict:\n",
    "        continue\n",
    "    for doc_id in doc_list:\n",
    "        if doc_id not in data_dict[qid]:\n",
    "            data_dict[qid][doc_id]=0\n",
    "    data_dict[qid]=sorted(data_dict[qid].items(),key=lambda x:x[1],reverse=True)"
   ]
  },
  {
   "cell_type": "code",
   "execution_count": 7,
   "metadata": {
    "collapsed": false,
    "jupyter": {
     "outputs_hidden": false
    }
   },
   "outputs": [
    {
     "data": {
      "text/plain": [
       "520"
      ]
     },
     "execution_count": 7,
     "metadata": {},
     "output_type": "execute_result"
    }
   ],
   "source": [
    "len(data_dict['1'])"
   ]
  },
  {
   "cell_type": "code",
   "execution_count": 8,
   "metadata": {},
   "outputs": [],
   "source": [
    "samples_list=[]\n",
    "import random\n",
    "random.seed(2024)\n",
    "max_length=512\n",
    "subtopic_content_dict={}\n",
    "for qid in data_dict:\n",
    "    doc_list=data_dict[qid]\n",
    "    pos_list=[item for item in doc_list if item[1]>0]\n",
    "    neg_list=[item for item in doc_list if item[1]==0]\n",
    "    query_content=query_and_subtopic[qid]['query']\n",
    "    subtopic=query_and_subtopic[qid]['subtopic']\n",
    "    subtopic_content_dict[query_content]={\"subtopics\":subtopic.split(\",\")}\n",
    "    for i in range(len(pos_list)):\n",
    "        pos_id,pos_label=pos_list[i]\n",
    "        if pos_id not in docs:\n",
    "            continue\n",
    "        pos=[''.join(docs[pos_id][:max_length])]\n",
    "        negs=[]\n",
    "        for j in range(i+1,len(pos_list)):\n",
    "\n",
    "            neg_id,neg_label=pos_list[j]\n",
    "            if pos_label>neg_label:\n",
    "                if neg_id not in docs:\n",
    "                    continue\n",
    "                neg=\"\".join(docs[neg_id][:max_length])\n",
    "                negs.append(neg)\n",
    "        if len(negs)>0:\n",
    "            samples_list.append([query_content,pos,negs])\n",
    "    for pos_item in pos_list:\n",
    "        random.shuffle(neg_list)\n",
    "        #neg_list_sampled=neg_list[:10]\n",
    "        neg_list_sampled=neg_list\n",
    "        pos_id=pos_item[0]\n",
    "        if pos_id not in docs:\n",
    "            continue\n",
    "        pos=[''.join(docs[pos_id][:max_length])]\n",
    "        negs=[]\n",
    "        for neg_item in neg_list_sampled:\n",
    "            neg_id=neg_item[0]\n",
    "            if neg_id not in docs:\n",
    "                continue\n",
    "            neg=\"\".join(docs[neg_id][:max_length])\n",
    "            negs.append(neg)\n",
    "        if len(negs)>0:\n",
    "            samples_list.append([query_content,pos,negs])"
   ]
  },
  {
   "cell_type": "code",
   "execution_count": null,
   "metadata": {},
   "outputs": [],
   "source": []
  },
  {
   "cell_type": "code",
   "execution_count": 9,
   "metadata": {
    "collapsed": false,
    "jupyter": {
     "outputs_hidden": false
    }
   },
   "outputs": [],
   "source": [
    "prompt_former=\"Consider a query A and a passage B. The subtopics of this query are as follows:\"\n",
    "prompt_latter=\"These subtopics are specific and subdivided topics related to the query. Please determine whether passage B contains possible intents related to query A, and give the answer by predicting 'yes' or 'no'\"\n",
    "# prompt=\"Consider a query A and a passage B. The subtopics of this query are as follows: 1.xxx, 2.xxx. These subtopics are specific and subdivided topics related to the query. Please determine whether passage B contains possible intents related to query A, and give the answer by predicting 'yes' or 'no'\"\n",
    "import json\n",
    "with open(\"../finetune_data_bge_jsonl/subtopic_top100.jsonl\",'w') as f:\n",
    "    for item in samples_list:\n",
    "        query,pos,neg=item\n",
    "        assert isinstance(pos,list)\n",
    "        assert isinstance(neg,list)\n",
    "        \n",
    "        subtopics=subtopic_content_dict[query]['subtopics']\n",
    "        prompt=\"\"+prompt_former\n",
    "\n",
    "        for index,subtopic in enumerate(subtopics):\n",
    "            number=index+1\n",
    "            subtopic=\" \".join(subtopic.split(\"_\"))\n",
    "            if number==len(subtopics):\n",
    "                prompt=prompt+f\"{number}.'\"+subtopic+\"'. \"\n",
    "            else:\n",
    "                prompt=prompt+f\"{number}.'\"+subtopic+\"', \"\n",
    "\n",
    "        prompt=prompt+prompt_latter\n",
    "        \n",
    "\n",
    "        dict_write={\"query\":query,\"pos\":pos,\"neg\":neg,\"prompt\":prompt}\n",
    "        write_line=json.dumps(dict_write)\n",
    "        f.write(write_line+'\\n')\n"
   ]
  },
  {
   "cell_type": "code",
   "execution_count": 10,
   "metadata": {
    "collapsed": false,
    "jupyter": {
     "outputs_hidden": false
    }
   },
   "outputs": [
    {
     "data": {
      "text/plain": [
       "6177"
      ]
     },
     "execution_count": 10,
     "metadata": {},
     "output_type": "execute_result"
    }
   ],
   "source": [
    "len(samples_list)"
   ]
  },
  {
   "cell_type": "code",
   "execution_count": 46,
   "metadata": {
    "collapsed": false,
    "jupyter": {
     "outputs_hidden": false
    }
   },
   "outputs": [],
   "source": [
    "dict_pos_neg_list={}\n",
    "for item in samples_list:\n",
    "    query,pos,neg=item\n",
    "    if query not in dict_pos_neg_list:\n",
    "        dict_pos_neg_list[query]={}\n",
    "    if pos not in dict_pos_neg_list[query]:\n",
    "        dict_pos_neg_list[query][pos]=set()\n",
    "    dict_pos_neg_list[query][pos].add(neg)\n"
   ]
  },
  {
   "cell_type": "code",
   "execution_count": 50,
   "metadata": {
    "collapsed": false,
    "jupyter": {
     "outputs_hidden": false
    }
   },
   "outputs": [],
   "source": [
    "length_list=[len(dict_pos_neg_list[item]) for item in dict_pos_neg_list]"
   ]
  },
  {
   "cell_type": "code",
   "execution_count": 51,
   "metadata": {},
   "outputs": [
    {
     "data": {
      "text/plain": [
       "[1,\n",
       " 1,\n",
       " 1,\n",
       " 2,\n",
       " 6,\n",
       " 2,\n",
       " 11,\n",
       " 2,\n",
       " 3,\n",
       " 59,\n",
       " 28,\n",
       " 3,\n",
       " 32,\n",
       " 6,\n",
       " 7,\n",
       " 12,\n",
       " 30,\n",
       " 3,\n",
       " 19,\n",
       " 21,\n",
       " 1,\n",
       " 7,\n",
       " 15,\n",
       " 29,\n",
       " 1,\n",
       " 2,\n",
       " 9,\n",
       " 18,\n",
       " 25,\n",
       " 28,\n",
       " 2,\n",
       " 20,\n",
       " 5,\n",
       " 1,\n",
       " 15,\n",
       " 13,\n",
       " 12,\n",
       " 15,\n",
       " 22,\n",
       " 26,\n",
       " 17,\n",
       " 12,\n",
       " 47,\n",
       " 6,\n",
       " 4,\n",
       " 5,\n",
       " 37,\n",
       " 15,\n",
       " 4,\n",
       " 23,\n",
       " 3,\n",
       " 15,\n",
       " 61,\n",
       " 23,\n",
       " 4,\n",
       " 53,\n",
       " 37,\n",
       " 54,\n",
       " 10,\n",
       " 40,\n",
       " 2,\n",
       " 5,\n",
       " 7,\n",
       " 18,\n",
       " 19,\n",
       " 7,\n",
       " 2,\n",
       " 29,\n",
       " 24,\n",
       " 50,\n",
       " 38,\n",
       " 17,\n",
       " 7,\n",
       " 2,\n",
       " 43,\n",
       " 20,\n",
       " 9,\n",
       " 49,\n",
       " 20,\n",
       " 35,\n",
       " 20,\n",
       " 14,\n",
       " 35,\n",
       " 30,\n",
       " 3,\n",
       " 21,\n",
       " 11,\n",
       " 19,\n",
       " 11,\n",
       " 20,\n",
       " 19,\n",
       " 33,\n",
       " 19,\n",
       " 36,\n",
       " 16,\n",
       " 20,\n",
       " 8,\n",
       " 10,\n",
       " 32,\n",
       " 30,\n",
       " 32,\n",
       " 57,\n",
       " 6,\n",
       " 48,\n",
       " 10,\n",
       " 23,\n",
       " 38,\n",
       " 61,\n",
       " 32,\n",
       " 30,\n",
       " 40,\n",
       " 26,\n",
       " 38,\n",
       " 23,\n",
       " 50,\n",
       " 5,\n",
       " 20,\n",
       " 24,\n",
       " 20,\n",
       " 57,\n",
       " 5,\n",
       " 4,\n",
       " 10,\n",
       " 3,\n",
       " 24,\n",
       " 12,\n",
       " 44,\n",
       " 4,\n",
       " 8,\n",
       " 13,\n",
       " 42,\n",
       " 2,\n",
       " 17,\n",
       " 44,\n",
       " 14,\n",
       " 44,\n",
       " 65,\n",
       " 44,\n",
       " 11,\n",
       " 25,\n",
       " 26,\n",
       " 33,\n",
       " 13,\n",
       " 23,\n",
       " 43,\n",
       " 24,\n",
       " 67,\n",
       " 22,\n",
       " 16,\n",
       " 6,\n",
       " 1,\n",
       " 5,\n",
       " 3,\n",
       " 16,\n",
       " 2,\n",
       " 9,\n",
       " 48,\n",
       " 10,\n",
       " 16,\n",
       " 33,\n",
       " 29,\n",
       " 34,\n",
       " 26,\n",
       " 6,\n",
       " 2,\n",
       " 16,\n",
       " 48,\n",
       " 15,\n",
       " 1,\n",
       " 2,\n",
       " 15,\n",
       " 1,\n",
       " 15,\n",
       " 2,\n",
       " 34,\n",
       " 57,\n",
       " 4,\n",
       " 3,\n",
       " 6,\n",
       " 32,\n",
       " 11,\n",
       " 18,\n",
       " 41,\n",
       " 8,\n",
       " 48,\n",
       " 10,\n",
       " 21,\n",
       " 11,\n",
       " 37]"
      ]
     },
     "execution_count": 51,
     "metadata": {},
     "output_type": "execute_result"
    }
   ],
   "source": [
    "length_list"
   ]
  },
  {
   "cell_type": "code",
   "execution_count": 22,
   "metadata": {},
   "outputs": [
    {
     "data": {
      "application/vnd.jupyter.widget-view+json": {
       "model_id": "ab55188264d1424ea1c00da1ba893050",
       "version_major": 2,
       "version_minor": 0
      },
      "text/plain": [
       "Saving the dataset (0/3 shards):   0%|          | 0/46029 [00:00<?, ? examples/s]"
      ]
     },
     "metadata": {},
     "output_type": "display_data"
    },
    {
     "name": "stdout",
     "output_type": "stream",
     "text": [
      "Dataset saved successfully.\n"
     ]
    }
   ],
   "source": [
    "from datasets import Dataset\n",
    "\n",
    "# 假设你已经有了data_list\n",
    "# ...\n",
    "\n",
    "data = {\"query\": [], \"subtopic\": [],\"pos\": [], \"neg\": []}\n",
    "for item in samples_list:\n",
    "\n",
    "    data[\"query\"].append(item[0])\n",
    "    data[\"subtopic\"].append(item[1])\n",
    "    data[\"pos\"].append(item[2])\n",
    "    data[\"neg\"].append(item[3])\n",
    "    \n",
    "\n",
    "# 创建Hugging Face dataset\n",
    "dataset = Dataset.from_dict(data)\n",
    "\n",
    "# 保存数据集到本地\n",
    "dataset.save_to_disk('pairwise_samples_simplified')\n",
    "\n",
    "print(\"Dataset saved successfully.\")"
   ]
  },
  {
   "cell_type": "code",
   "execution_count": 23,
   "metadata": {},
   "outputs": [
    {
     "name": "stdout",
     "output_type": "stream",
     "text": [
      "Dataset({\n",
      "    features: ['query', 'subtopic', 'pos', 'neg'],\n",
      "    num_rows: 46029\n",
      "})\n"
     ]
    }
   ],
   "source": [
    "print(dataset)"
   ]
  }
 ],
 "metadata": {
  "kernelspec": {
   "display_name": "Python 3 (ipykernel)",
   "language": "python",
   "name": "python3"
  },
  "language_info": {
   "codemirror_mode": {
    "name": "ipython",
    "version": 3
   },
   "file_extension": ".py",
   "mimetype": "text/x-python",
   "name": "python",
   "nbconvert_exporter": "python",
   "pygments_lexer": "ipython3",
   "version": "3.10.8"
  }
 },
 "nbformat": 4,
 "nbformat_minor": 4
}
